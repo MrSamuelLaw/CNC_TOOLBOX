{
 "cells": [
  {
   "cell_type": "code",
   "execution_count": 1,
   "metadata": {},
   "outputs": [],
   "source": [
    "%reset -f"
   ]
  },
  {
   "cell_type": "code",
   "execution_count": 4,
   "metadata": {},
   "outputs": [
    {
     "output_type": "execute_result",
     "data": {
      "text/plain": "['xclip', 'xsel', 'python3.6-venv']"
     },
     "metadata": {},
     "execution_count": 4
    }
   ],
   "source": [
    "# testing reading in linux packages\n",
    "major_ver = 3\n",
    "minor_ver = 6\n",
    "with open('packages.txt', 'r') as inFile:\n",
    "        packages = inFile.readlines()\n",
    "        packages = [x.strip() for x in packages]\n",
    "        for i, p in enumerate(packages):\n",
    "            if p == 'python{major_ver}.{minor_ver}-venv':\n",
    "                packages[i] = p.format(major_ver=major_ver, minor_ver=minor_ver)\n",
    "packages"
   ]
  }
 ],
 "metadata": {
  "language_info": {
   "codemirror_mode": {
    "name": "ipython",
    "version": 3
   },
   "file_extension": ".py",
   "mimetype": "text/x-python",
   "name": "python",
   "nbconvert_exporter": "python",
   "pygments_lexer": "ipython3",
   "version": "3.7.7-final"
  },
  "orig_nbformat": 2,
  "kernelspec": {
   "name": "python37464bitb0c9bd4dbb884085bda02d4c0905e10e",
   "display_name": "Python 3.7.4 64-bit"
  }
 },
 "nbformat": 4,
 "nbformat_minor": 2
}